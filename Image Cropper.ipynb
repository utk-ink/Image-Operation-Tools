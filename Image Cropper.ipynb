{
 "cells": [
  {
   "cell_type": "code",
   "execution_count": null,
   "metadata": {},
   "outputs": [],
   "source": [
    "'''Image Cropper'''"
   ]
  },
  {
   "cell_type": "code",
   "execution_count": 22,
   "metadata": {},
   "outputs": [],
   "source": [
    "from PIL import Image                              #install this library, if it is not there.     \n",
    "import os, sys\n",
    "\n",
    "path = r\"C:\\Users\\nEW u\\folder//\"                  #put folder path inside \"\" and put // after the folder name, in the exact same format.\n",
    "dirs = os.listdir( path )\n",
    "\n",
    "\n",
    "def crop():\n",
    "    for item in dirs:\n",
    "        if os.path.isfile(path+item):                   \n",
    "            im = Image.open(path+item)                  #Note:- if you are aware of cartesian plane, imagine the image is in 4th quadrant with it's origin on top left corner. \n",
    "            f, e = os.path.splitext(path+item)          \n",
    "            crop = im.crop((0,0,100,100))               #im.crop((left, top, right, bottom))\n",
    "            crop.save(f + '_prefix.jpeg', \"jpeg\")       #set the 'prefix' and the 'format' of the resulting image.\n",
    "\n",
    "crop()                                                  #Now check the folder."
   ]
  },
  {
   "cell_type": "code",
   "execution_count": null,
   "metadata": {},
   "outputs": [],
   "source": [
    "'''You can set the image format as jpeg(not jpg), png, tiff etc.\n",
    "Setting the exact desirable size is a bit tricky. \n",
    "Try to play with dimension or check offial PIL library page.'''"
   ]
  }
 ],
 "metadata": {
  "kernelspec": {
   "display_name": "ank",
   "language": "python",
   "name": "ank"
  },
  "language_info": {
   "codemirror_mode": {
    "name": "ipython",
    "version": 3
   },
   "file_extension": ".py",
   "mimetype": "text/x-python",
   "name": "python",
   "nbconvert_exporter": "python",
   "pygments_lexer": "ipython3",
   "version": "3.7.10"
  }
 },
 "nbformat": 4,
 "nbformat_minor": 2
}
