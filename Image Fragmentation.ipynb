{
 "cells": [
  {
   "cell_type": "code",
   "execution_count": null,
   "metadata": {},
   "outputs": [],
   "source": [
    "'''Image Fragmentation'''"
   ]
  },
  {
   "cell_type": "code",
   "execution_count": 7,
   "metadata": {},
   "outputs": [
    {
     "data": {
      "text/plain": [
       "(<Tile #1 - sliced_image_01_01.jpg>,\n",
       " <Tile #2 - sliced_image_01_02.jpg>,\n",
       " <Tile #3 - sliced_image_01_03.jpg>,\n",
       " <Tile #4 - sliced_image_01_04.jpg>,\n",
       " <Tile #5 - sliced_image_02_01.jpg>,\n",
       " <Tile #6 - sliced_image_02_02.jpg>,\n",
       " <Tile #7 - sliced_image_02_03.jpg>,\n",
       " <Tile #8 - sliced_image_02_04.jpg>,\n",
       " <Tile #9 - sliced_image_03_01.jpg>,\n",
       " <Tile #10 - sliced_image_03_02.jpg>,\n",
       " <Tile #11 - sliced_image_03_03.jpg>,\n",
       " <Tile #12 - sliced_image_03_04.jpg>)"
      ]
     },
     "execution_count": 7,
     "metadata": {},
     "output_type": "execute_result"
    }
   ],
   "source": [
    "import image_slicer as im                                                                          #install this library 'image_slicer'.\n",
    "tiles = im.slice(r'C:\\Users\\nEW u\\folder\\h.jpg', 10, save=False);                                  #put the image path inside '', and set the number of image parts(fragments) needed.\n",
    "im.save_tiles(tiles, directory=r'C:\\Users\\nEW u\\folder//', prefix='sliced_image', format='jpeg')   #set the 'prefix' and the 'format' of the resulting image."
   ]
  },
  {
   "cell_type": "code",
   "execution_count": 3,
   "metadata": {},
   "outputs": [],
   "source": [
    "'''You can set the image format as jpeg(not jpg), png, tiff etc.\n",
    "Set the number of equal fragments needed.\n",
    "Check the folder for the resulting images.'''"
   ]
  }
 ],
 "metadata": {
  "kernelspec": {
   "display_name": "ank",
   "language": "python",
   "name": "ank"
  },
  "language_info": {
   "codemirror_mode": {
    "name": "ipython",
    "version": 3
   },
   "file_extension": ".py",
   "mimetype": "text/x-python",
   "name": "python",
   "nbconvert_exporter": "python",
   "pygments_lexer": "ipython3",
   "version": "3.7.10"
  }
 },
 "nbformat": 4,
 "nbformat_minor": 2
}
