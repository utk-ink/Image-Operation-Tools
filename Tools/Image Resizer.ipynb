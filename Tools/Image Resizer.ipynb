{
 "cells": [
  {
   "cell_type": "code",
   "execution_count": null,
   "metadata": {},
   "outputs": [],
   "source": [
    "'''Image Resizer'''"
   ]
  },
  {
   "cell_type": "code",
   "execution_count": 21,
   "metadata": {},
   "outputs": [],
   "source": [
    "from PIL import Image                     #install this library, if it is not there.\n",
    "import os, sys\n",
    "\n",
    "path = r\"C:\\Users\\nEW u\\folder//\"         #put folder path inside \"\" and put // after the folder name, in the exact same format.\n",
    "dirs = os.listdir( path )\n",
    "\n",
    "\n",
    "def resize():\n",
    "    for item in dirs:\n",
    "        if os.path.isfile(path+item):\n",
    "            im = Image.open(path+item)\n",
    "            f, e = os.path.splitext(path+item)\n",
    "            imResize = im.resize((128,128), Image.ANTIALIAS)               #set the resizing dimension.  \n",
    "            imResize.save(f + '_prefix.jpeg', 'jpeg', quality=100)         #set the 'prefix' and the 'format' of the resulting image.                        \n",
    "\n",
    "resize()                                                                   #Now check the folder."
   ]
  },
  {
   "cell_type": "code",
   "execution_count": 1,
   "metadata": {},
   "outputs": [],
   "source": [
    "'''You can set the image format as jpeg(not jpg), png, tiff etc, set the quality <=100.\n",
    "Anti-Aliasing technique helps to maintain the quality of image while resizing. \n",
    "You can learn more about it and other techniques too online.'''"
   ]
  }
 ],
 "metadata": {
  "kernelspec": {
   "display_name": "ank",
   "language": "python",
   "name": "ank"
  },
  "language_info": {
   "codemirror_mode": {
    "name": "ipython",
    "version": 3
   },
   "file_extension": ".py",
   "mimetype": "text/x-python",
   "name": "python",
   "nbconvert_exporter": "python",
   "pygments_lexer": "ipython3",
   "version": "3.7.10"
  }
 },
 "nbformat": 4,
 "nbformat_minor": 2
}
